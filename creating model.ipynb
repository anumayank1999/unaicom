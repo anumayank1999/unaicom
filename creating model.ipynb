{
 "cells": [
  {
   "cell_type": "code",
   "execution_count": 1,
   "metadata": {},
   "outputs": [],
   "source": [
    "import pandas as pd\n",
    "from sklearn.model_selection import train_test_split\n",
    "import pickle\n",
    "from sklearn.ensemble import RandomForestClassifier\n",
    "from sklearn.metrics import accuracy_score\n",
    "\n",
    "df=pd.read_csv(\"E:/fullstck/DS/data/train.csv\")\n",
    "\n",
    "def getTitle(name):\n",
    "    if('.' in name):\n",
    "        return name.split(',')[1].split('.')[0].strip()\n",
    "    else:\n",
    "        return \"Unknown\"\n",
    "    \n",
    "def replace_titles(x):\n",
    "    title=x[\"Title\"]\n",
    "    if title in ['Capt','Col','Major']:\n",
    "        return 'Officer'\n",
    "    elif title in ['Jonkheer','Don','the Countess','Done','Lady','Sir']:\n",
    "        return 'Royality'\n",
    "    elif title==\"Mme\":\n",
    "        return 'Mrs'\n",
    "    elif title in ['Mlle','Ms']:\n",
    "        return 'Miss'\n",
    "    else:\n",
    "        return title\n",
    "    \n",
    "df[\"Title\"]=df['Name'].map(lambda x: getTitle(x))\n",
    "df[\"Title\"]=df.apply(replace_titles,axis=1)\n",
    "\n",
    "df.drop('Name',axis=1,inplace=True)\n",
    "df.drop('Ticket',axis=1,inplace=True)\n",
    "df['Embarked'].fillna(\"S\",inplace=True)\n",
    "df.drop('Cabin',axis=1,inplace=True)\n",
    "df.Embarked.replace(('S','C','Q'),(0,1,2),inplace=True)\n",
    "df.Title.replace(('Mr','Miss','Mrs','Master','Dr','Rev','Officer','Royality'),(0,1,2,3,4,5,6,7),inplace=True)\n",
    "df.Sex.replace(('male','female'),(0,1),inplace=True)\n",
    "df['Age'].fillna(df['Age'].median(),inplace=True)\n",
    "df['Fare'].fillna(df['Fare'].median(),inplace=True)\n",
    "\n",
    "y=df['Survived']\n",
    "x=df.drop(['Survived','PassengerId'],axis=1)\n",
    "\n",
    "x_train,X_val,y_train,y_val=train_test_split(x,y,test_size=0.1)\n",
    "\n",
    "randomForest=RandomForestClassifier()\n",
    "randomForest.fit(x_train,y_train)\n",
    "pickle.dump(randomForest,open('titanic_model.sav','wb'))"
   ]
  },
  {
   "cell_type": "code",
   "execution_count": 2,
   "metadata": {},
   "outputs": [],
   "source": [
    "def prediction_model(pclass,sex,age,sibs,parch,fare,embarked,title):\n",
    "    import pickle\n",
    "    x=[[pclass,sex,age,sibs,parch,fare,embarked,title]]\n",
    "    randomForest = pickle.load(open('titanic_model.sav','rb'))\n",
    "    predictions=randomForest.predict(x)\n",
    "    print(predictions)"
   ]
  },
  {
   "cell_type": "code",
   "execution_count": 3,
   "metadata": {},
   "outputs": [
    {
     "name": "stdout",
     "output_type": "stream",
     "text": [
      "[1]\n"
     ]
    }
   ],
   "source": [
    "prediction_model(1,1,11,1,1,19,1,1)"
   ]
  },
  {
   "cell_type": "code",
   "execution_count": null,
   "metadata": {},
   "outputs": [],
   "source": []
  }
 ],
 "metadata": {
  "kernelspec": {
   "display_name": "Python 3",
   "language": "python",
   "name": "python3"
  },
  "language_info": {
   "codemirror_mode": {
    "name": "ipython",
    "version": 3
   },
   "file_extension": ".py",
   "mimetype": "text/x-python",
   "name": "python",
   "nbconvert_exporter": "python",
   "pygments_lexer": "ipython3",
   "version": "3.7.6"
  }
 },
 "nbformat": 4,
 "nbformat_minor": 4
}
